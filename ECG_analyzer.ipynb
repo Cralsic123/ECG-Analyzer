{
  "nbformat": 4,
  "nbformat_minor": 0,
  "metadata": {
    "colab": {
      "provenance": [],
      "authorship_tag": "ABX9TyN7j8dgmaMzMaOsVq3Efrf4",
      "include_colab_link": true
    },
    "kernelspec": {
      "name": "python3",
      "display_name": "Python 3"
    },
    "language_info": {
      "name": "python"
    }
  },
  "cells": [
    {
      "cell_type": "markdown",
      "metadata": {
        "id": "view-in-github",
        "colab_type": "text"
      },
      "source": [
        "<a href=\"https://colab.research.google.com/github/Cralsic123/ECG-Analyzer/blob/main/ECG_analyzer.ipynb\" target=\"_parent\"><img src=\"https://colab.research.google.com/assets/colab-badge.svg\" alt=\"Open In Colab\"/></a>"
      ]
    },
    {
      "cell_type": "code",
      "execution_count": 1,
      "metadata": {
        "colab": {
          "base_uri": "https://localhost:8080/",
          "height": 396
        },
        "id": "JikfX4rYDLIL",
        "outputId": "da7c1ecd-545f-4ed7-eb47-816e3eea9845"
      },
      "outputs": [
        {
          "output_type": "display_data",
          "data": {
            "text/plain": [
              "<Figure size 640x480 with 1 Axes>"
            ],
            "image/png": "[encoded data removed]"
          },
          "metadata": {}
        }
      ],
      "source": [
        "from PIL import Image\n",
        "import matplotlib.pyplot as plt\n",
        "\n",
        "# Path to the image\n",
        "image_path = \"/content/ECG/AHB/F1.png\"\n",
        "\n",
        "# Open the image\n",
        "image = Image.open(image_path)\n",
        "\n",
        "# Display the image\n",
        "plt.imshow(image)\n",
        "plt.axis('on')  # Turn off axis\n",
        "plt.show()\n"
      ]
    },
    {
      "cell_type": "code",
      "source": [
        "import os\n",
        "from PIL import Image\n",
        "\n",
        "# Folder containing the images\n",
        "folder_path = \"/content/ECG/MI/\"  # Adjust the path accordingly\n",
        "\n",
        "# Define the cropping coordinates (x1, y1, x2, y2)\n",
        "x1 = 0  # starting x-coordinate of the crop region\n",
        "y1 = 1250   # starting y-coordinate of the crop region\n",
        "x2 = 1200  # ending x-coordinate of the crop region\n",
        "y2 = 1450 # ending y-coordinate of the crop region\n",
        "\n",
        "# Loop through all the images in the folder\n",
        "for filename in os.listdir(folder_path):\n",
        "    if filename.endswith(\".jpg\") or filename.endswith(\".png\"):  # Check if the file is an image\n",
        "        # Open the image\n",
        "        image_path = os.path.join(folder_path, filename)\n",
        "        image = Image.open(image_path)\n",
        "\n",
        "        # Crop the image\n",
        "        cropped_image = image.crop((x1, y1, x2, y2))\n",
        "\n",
        "        # Save the cropped image with the same filename\n",
        "        cropped_image.save(os.path.join(folder_path, filename))\n",
        "\n",
        "print(\"Cropping complete.\")\n"
      ],
      "metadata": {
        "colab": {
          "base_uri": "https://localhost:8080/"
        },
        "id": "hch9oPp-ONfL",
        "outputId": "118796c8-5cfe-4366-882a-b5635e544ec8"
      },
      "execution_count": 2,
      "outputs": [
        {
          "output_type": "stream",
          "name": "stdout",
          "text": [
            "Cropping complete.\n"
          ]
        }
      ]
    },
    {
      "cell_type": "code",
      "source": [
        "import os\n",
        "from PIL import Image\n",
        "\n",
        "# Folder containing the images\n",
        "folder_path = \"/content/ECG/NP_1/\"  # Adjust the path accordingly\n",
        "\n",
        "# Define the cropping coordinates (x1, y1, x2, y2)\n",
        "x1 = 0  # starting x-coordinate of the crop region\n",
        "y1 = 1250   # starting y-coordinate of the crop region\n",
        "x2 = 1200  # ending x-coordinate of the crop region\n",
        "y2 = 1450 # ending y-coordinate of the crop region\n",
        "\n",
        "# Loop through all the images in the folder\n",
        "for filename in os.listdir(folder_path):\n",
        "    if filename.endswith(\".jpg\") or filename.endswith(\".png\"):  # Check if the file is an image\n",
        "        # Open the image\n",
        "        image_path = os.path.join(folder_path, filename)\n",
        "        image = Image.open(image_path)\n",
        "\n",
        "        # Crop the image\n",
        "        cropped_image = image.crop((x1, y1, x2, y2))\n",
        "\n",
        "        # Save the cropped image with the same filename\n",
        "        cropped_image.save(os.path.join(folder_path, filename))\n",
        "\n",
        "print(\"Cropping complete.\")\n"
      ],
      "metadata": {
        "colab": {
          "base_uri": "https://localhost:8080/"
        },
        "id": "tYPaWtxZOVj0",
        "outputId": "ef1aa4d4-cbf9-45f2-e6d1-61b7c7eca57a"
      },
      "execution_count": 3,
      "outputs": [
        {
          "output_type": "stream",
          "name": "stdout",
          "text": [
            "Cropping complete.\n"
          ]
        }
      ]
    },
    {
      "cell_type": "code",
      "source": [
        "import os\n",
        "from PIL import Image\n",
        "\n",
        "# Folder containing the images\n",
        "folder_path = \"/content/ECG/NP_2/\"  # Adjust the path accordingly\n",
        "\n",
        "# Define the cropping coordinates (x1, y1, x2, y2)\n",
        "x1 = 0  # starting x-coordinate of the crop region\n",
        "y1 = 1250   # starting y-coordinate of the crop region\n",
        "x2 = 1200  # ending x-coordinate of the crop region\n",
        "y2 = 1450 # ending y-coordinate of the crop region\n",
        "\n",
        "# Loop through all the images in the folder\n",
        "for filename in os.listdir(folder_path):\n",
        "    if filename.endswith(\".jpg\") or filename.endswith(\".png\"):  # Check if the file is an image\n",
        "        # Open the image\n",
        "        image_path = os.path.join(folder_path, filename)\n",
        "        image = Image.open(image_path)\n",
        "\n",
        "        # Crop the image\n",
        "        cropped_image = image.crop((x1, y1, x2, y2))\n",
        "\n",
        "        # Save the cropped image with the same filename\n",
        "        cropped_image.save(os.path.join(folder_path, filename))\n",
        "\n",
        "print(\"Cropping complete.\")\n"
      ],
      "metadata": {
        "colab": {
          "base_uri": "https://localhost:8080/"
        },
        "id": "yfc6KaU7OVff",
        "outputId": "211e73be-6c76-4046-f0fe-d52a36f7ae1b"
      },
      "execution_count": 4,
      "outputs": [
        {
          "output_type": "stream",
          "name": "stdout",
          "text": [
            "Cropping complete.\n"
          ]
        }
      ]
    },
    {
      "cell_type": "code",
      "source": [
        "import os\n",
        "from PIL import Image\n",
        "\n",
        "# Folder containing the images\n",
        "folder_path = \"/content/ECG/NP_3/\"  # Adjust the path accordingly\n",
        "\n",
        "# Define the cropping coordinates (x1, y1, x2, y2)\n",
        "x1 = 0  # starting x-coordinate of the crop region\n",
        "y1 = 1250   # starting y-coordinate of the crop region\n",
        "x2 = 1200  # ending x-coordinate of the crop region\n",
        "y2 = 1450 # ending y-coordinate of the crop region\n",
        "\n",
        "# Loop through all the images in the folder\n",
        "for filename in os.listdir(folder_path):\n",
        "    if filename.endswith(\".jpg\") or filename.endswith(\".png\"):  # Check if the file is an image\n",
        "        # Open the image\n",
        "        image_path = os.path.join(folder_path, filename)\n",
        "        image = Image.open(image_path)\n",
        "\n",
        "        # Crop the image\n",
        "        cropped_image = image.crop((x1, y1, x2, y2))\n",
        "\n",
        "        # Save the cropped image with the same filename\n",
        "        cropped_image.save(os.path.join(folder_path, filename))\n",
        "\n",
        "print(\"Cropping complete.\")\n"
      ],
      "metadata": {
        "colab": {
          "base_uri": "https://localhost:8080/"
        },
        "id": "n9S9QFNlOVcA",
        "outputId": "07f30af2-f240-4d7b-bfe8-af06f4f99a98"
      },
      "execution_count": 5,
      "outputs": [
        {
          "output_type": "stream",
          "name": "stdout",
          "text": [
            "Cropping complete.\n"
          ]
        }
      ]
    },
    {
      "cell_type": "code",
      "source": [
        "import os\n",
        "from PIL import Image\n",
        "\n",
        "# Folder containing the images\n",
        "folder_path = \"/content/ECG/NP_4/\"  # Adjust the path accordingly\n",
        "\n",
        "# Define the cropping coordinates (x1, y1, x2, y2)\n",
        "x1 = 0  # starting x-coordinate of the crop region\n",
        "y1 = 1250   # starting y-coordinate of the crop region\n",
        "x2 = 1200  # ending x-coordinate of the crop region\n",
        "y2 = 1450 # ending y-coordinate of the crop region\n",
        "\n",
        "# Loop through all the images in the folder\n",
        "for filename in os.listdir(folder_path):\n",
        "    if filename.endswith(\".jpg\") or filename.endswith(\".png\"):  # Check if the file is an image\n",
        "        # Open the image\n",
        "        image_path = os.path.join(folder_path, filename)\n",
        "        image = Image.open(image_path)\n",
        "\n",
        "        # Crop the image\n",
        "        cropped_image = image.crop((x1, y1, x2, y2))\n",
        "\n",
        "        # Save the cropped image with the same filename\n",
        "        cropped_image.save(os.path.join(folder_path, filename))\n",
        "\n",
        "print(\"Cropping complete.\")\n"
      ],
      "metadata": {
        "colab": {
          "base_uri": "https://localhost:8080/"
        },
        "id": "KteNAd-lOVaJ",
        "outputId": "b944bd98-5f41-4b16-8805-4b5efcfd104e"
      },
      "execution_count": 6,
      "outputs": [
        {
          "output_type": "stream",
          "name": "stdout",
          "text": [
            "Cropping complete.\n"
          ]
        }
      ]
    },
    {
      "cell_type": "code",
      "source": [
        "import numpy as np\n",
        "import pandas as pd\n",
        "import matplotlib.pyplot as plt\n",
        "from sklearn.linear_model import LogisticRegression\n",
        "from sklearn.model_selection import train_test_split\n",
        "from sklearn.metrics import accuracy_score"
      ],
      "metadata": {
        "id": "TkcSb4KbOVYI"
      },
      "execution_count": 7,
      "outputs": []
    },
    {
      "cell_type": "code",
      "source": [
        "cd /content/ECG"
      ],
      "metadata": {
        "colab": {
          "base_uri": "https://localhost:8080/"
        },
        "id": "knv7IuF2O0GH",
        "outputId": "85064653-f1eb-46a8-ffb6-016c7525d623"
      },
      "execution_count": 9,
      "outputs": [
        {
          "output_type": "stream",
          "name": "stdout",
          "text": [
            "/content/ECG\n"
          ]
        }
      ]
    },
    {
      "cell_type": "code",
      "source": [
        "!rm -rf `find -type d -name .ipynb_checkpoints`"
      ],
      "metadata": {
        "id": "8a05HwsKO1JQ"
      },
      "execution_count": 10,
      "outputs": []
    },
    {
      "cell_type": "code",
      "source": [
        "import os\n",
        "\n",
        "path =\"/content/ECG/\"\n",
        "files = os.listdir(path)[:6]\n",
        "print(files)"
      ],
      "metadata": {
        "colab": {
          "base_uri": "https://localhost:8080/"
        },
        "id": "tD-ohlC9OVV4",
        "outputId": "feb14555-ad3f-4f67-abec-813d34d41a61"
      },
      "execution_count": 8,
      "outputs": [
        {
          "output_type": "stream",
          "name": "stdout",
          "text": [
            "['AHB', 'MI', 'NP_1', '.ipynb_checkpoints', 'NP_2', 'NP_4']\n"
          ]
        }
      ]
    },
    {
      "cell_type": "code",
      "source": [],
      "metadata": {
        "id": "MESv7L9iOVTg"
      },
      "execution_count": null,
      "outputs": []
    },
    {
      "cell_type": "code",
      "source": [],
      "metadata": {
        "id": "YaieRXTnOVRr"
      },
      "execution_count": null,
      "outputs": []
    }
  ]
}